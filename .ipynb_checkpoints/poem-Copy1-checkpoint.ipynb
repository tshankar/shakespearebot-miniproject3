{
 "cells": [
  {
   "cell_type": "code",
   "execution_count": 1,
   "metadata": {
    "collapsed": true
   },
   "outputs": [],
   "source": [
    "from HMM import unsupervised_HMM\n",
    "from preprocessing import getTrainingData"
   ]
  },
  {
   "cell_type": "code",
   "execution_count": 2,
   "metadata": {},
   "outputs": [],
   "source": [
    "def get_syllable_dict():\n",
    "    f = open('data/syllable_dictionary.txt', 'r')\n",
    "    counter = 0\n",
    "    words = {}\n",
    "    for line in f:\n",
    "        line = line.split()\n",
    "        words[counter] = line\n",
    "        counter += 1\n",
    "    return words\n",
    "words = get_syllable_dict()"
   ]
  },
  {
   "cell_type": "code",
   "execution_count": null,
   "metadata": {},
   "outputs": [
    {
     "name": "stdout",
     "output_type": "stream",
     "text": [
      "Iteration: 10\n",
      "Iteration: 20\n",
      "Iteration: 30\n",
      "Iteration: 40\n",
      "Iteration: 50\n"
     ]
    }
   ],
   "source": [
    "X_train, Y_train = getTrainingData(40)\n",
    "HMM = unsupervised_HMM(X_train, 10, 50)\n",
    "emission, states = HMM.generate_emission(100)\n",
    "lines = []\n",
    "curr_syllables = 0\n",
    "syllables = 0\n",
    "count_e = 0\n",
    "words = get_syllable_dict()\n",
    "for i in range(14):\n",
    "    line = []\n",
    "    while curr_syllables < 10:\n",
    "        if len(words[emission[count_e]]) == 3:\n",
    "            syllables = int(words[emission[count_e]][2])\n",
    "        else:\n",
    "            syllables = int(words[emission[count_e]][1])\n",
    "        if (curr_syllables + syllables) > 10:\n",
    "            continue\n",
    "        else:\n",
    "            curr_syllables += syllables\n",
    "            line.append(words[emission[count_e]][0])\n",
    "            line.append(\" \")\n",
    "        count_e += 1\n",
    "    lines.append(line)"
   ]
  },
  {
   "cell_type": "code",
   "execution_count": null,
   "metadata": {},
   "outputs": [],
   "source": [
    "print(emission)"
   ]
  },
  {
   "cell_type": "code",
   "execution_count": null,
   "metadata": {
    "collapsed": true
   },
   "outputs": [],
   "source": []
  }
 ],
 "metadata": {
  "kernelspec": {
   "display_name": "Python 3",
   "language": "python",
   "name": "python3"
  },
  "language_info": {
   "codemirror_mode": {
    "name": "ipython",
    "version": 3
   },
   "file_extension": ".py",
   "mimetype": "text/x-python",
   "name": "python",
   "nbconvert_exporter": "python",
   "pygments_lexer": "ipython3",
   "version": "3.6.3"
  }
 },
 "nbformat": 4,
 "nbformat_minor": 2
}
