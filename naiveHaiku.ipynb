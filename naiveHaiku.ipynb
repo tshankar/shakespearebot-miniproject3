{
 "cells": [
  {
   "cell_type": "code",
   "execution_count": 1,
   "metadata": {
    "collapsed": true
   },
   "outputs": [],
   "source": [
    "import os\n",
    "import numpy as np\n",
    "from IPython.display import HTML\n",
    "\n",
    "from HMM import unsupervised_HMM\n",
    "from HMM_helper import (\n",
    "    text_to_wordcloud,\n",
    "    states_to_wordclouds,\n",
    "    parse_observations,\n",
    "    sample_sentence,\n",
    "    visualize_sparsities,\n",
    "    animate_emission\n",
    ")"
   ]
  },
  {
   "cell_type": "code",
   "execution_count": 10,
   "metadata": {},
   "outputs": [
    {
     "name": "stdout",
     "output_type": "stream",
     "text": [
      "Iteration: 10\n",
      "Iteration: 20\n",
      "Iteration: 30\n",
      "Iteration: 40\n",
      "Iteration: 50\n",
      "Iteration: 60\n",
      "Iteration: 70\n",
      "Iteration: 80\n",
      "Iteration: 90\n",
      "Iteration: 100\n"
     ]
    }
   ],
   "source": [
    "text = open(os.path.join(os.getcwd(), 'data/shakespeare.txt')).read()\n",
    "\n",
    "obs, obs_map = parse_observations(text)\n",
    "hmm8 = unsupervised_HMM(obs, 10, 100)"
   ]
  },
  {
   "cell_type": "code",
   "execution_count": 11,
   "metadata": {
    "collapsed": true
   },
   "outputs": [],
   "source": [
    "(emission, states) = hmm8.generate_emission(500)"
   ]
  },
  {
   "cell_type": "code",
   "execution_count": 13,
   "metadata": {
    "collapsed": true
   },
   "outputs": [],
   "source": [
    "def get_syllable_dict():\n",
    "    f = open('data/syllable_dictionary.txt', 'r')\n",
    "    counter = 0\n",
    "    words = {}\n",
    "    for line in f:\n",
    "        line = line.split()\n",
    "        words[counter] = line\n",
    "        counter += 1\n",
    "    return words"
   ]
  },
  {
   "cell_type": "code",
   "execution_count": 14,
   "metadata": {},
   "outputs": [
    {
     "name": "stdout",
     "output_type": "stream",
     "text": [
      "0\n",
      "0\n",
      "action 2\n",
      "action 0\n",
      "2\n",
      "broken 2\n",
      "broken 1\n",
      "4\n",
      "appear 2\n",
      "appear 2\n",
      "1\n",
      "0\n",
      "accusing 3\n",
      "accusing 3\n",
      "3\n",
      "retention 3\n",
      "retention 4\n",
      "6\n",
      "adonis 3\n",
      "adonis 5\n",
      "2\n",
      "0\n",
      "bier 1\n",
      "bier 6\n",
      "1\n",
      "abuse 2\n",
      "abuse 7\n",
      "3\n",
      "eyes 1\n",
      "eyes 8\n",
      "4\n",
      "eye 1\n",
      "eye 9\n"
     ]
    }
   ],
   "source": [
    "lines = []\n",
    "syllables = 0\n",
    "lineSyllables = 0\n",
    "count_e = 0\n",
    "words = get_syllable_dict()\n",
    "for i in range(3):\n",
    "    curr_syllables = 0\n",
    "    print(i)\n",
    "    line = []\n",
    "    if i == 0 or i == 2:\n",
    "        lineSyllables = 5\n",
    "    else:\n",
    "        lineSyllables = 7\n",
    "    while curr_syllables < lineSyllables:\n",
    "        print(curr_syllables)\n",
    "        if emission[count_e] > 3205:\n",
    "            count_e += 1\n",
    "            continue\n",
    "        if len(words[emission[count_e]]) == 3:\n",
    "            print(words[emission[count_e]][0], words[emission[count_e]][2])\n",
    "            syllables = int(words[emission[count_e]][2])\n",
    "        else:\n",
    "            print(words[emission[count_e]][0], words[emission[count_e]][1])\n",
    "            syllables = int(words[emission[count_e]][1])\n",
    "        if (curr_syllables + syllables) > 10:\n",
    "            count_e += 1\n",
    "            continue\n",
    "        else:\n",
    "            curr_syllables += syllables\n",
    "            line.append(words[emission[count_e]][0])\n",
    "            print(words[emission[count_e]][0], count_e)\n",
    "            line.append(\" \")\n",
    "        \n",
    "        count_e += 1\n",
    "    lines.append(line)"
   ]
  },
  {
   "cell_type": "code",
   "execution_count": 15,
   "metadata": {},
   "outputs": [
    {
     "name": "stdout",
     "output_type": "stream",
     "text": [
      "[['action', ' ', 'broken', ' ', 'appear', ' '], ['accusing', ' ', 'retention', ' ', 'adonis', ' '], ['bier', ' ', 'abuse', ' ', 'eyes', ' ', 'eye', ' ']]\n"
     ]
    }
   ],
   "source": [
    "print (lines)"
   ]
  },
  {
   "cell_type": "code",
   "execution_count": null,
   "metadata": {
    "collapsed": true
   },
   "outputs": [],
   "source": []
  }
 ],
 "metadata": {
  "kernelspec": {
   "display_name": "Python 3",
   "language": "python",
   "name": "python3"
  },
  "language_info": {
   "codemirror_mode": {
    "name": "ipython",
    "version": 3
   },
   "file_extension": ".py",
   "mimetype": "text/x-python",
   "name": "python",
   "nbconvert_exporter": "python",
   "pygments_lexer": "ipython3",
   "version": "3.6.3"
  }
 },
 "nbformat": 4,
 "nbformat_minor": 2
}
