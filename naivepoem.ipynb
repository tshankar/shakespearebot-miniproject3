{
 "cells": [
  {
   "cell_type": "code",
   "execution_count": 1,
   "metadata": {
    "collapsed": true
   },
   "outputs": [],
   "source": [
    "import os\n",
    "import numpy as np\n",
    "from IPython.display import HTML\n",
    "\n",
    "from HMM import unsupervised_HMM\n",
    "from HMM_helper import (\n",
    "    text_to_wordcloud,\n",
    "    states_to_wordclouds,\n",
    "    parse_observations,\n",
    "    sample_sentence,\n",
    "    visualize_sparsities,\n",
    "    animate_emission\n",
    ")"
   ]
  },
  {
   "cell_type": "code",
   "execution_count": null,
   "metadata": {},
   "outputs": [],
   "source": [
    "text = open(os.path.join(os.getcwd(), 'data/shakespeare.txt')).read()\n",
    "\n",
    "obs, obs_map = parse_observations(text)\n",
    "hmm8 = unsupervised_HMM(obs, 60, 100)"
   ]
  },
  {
   "cell_type": "code",
   "execution_count": null,
   "metadata": {
    "collapsed": true
   },
   "outputs": [],
   "source": [
    "(emission, states) = hmm8.generate_emission(500)\n"
   ]
  },
  {
   "cell_type": "code",
   "execution_count": null,
   "metadata": {},
   "outputs": [],
   "source": [
    "print(emission)"
   ]
  },
  {
   "cell_type": "code",
   "execution_count": null,
   "metadata": {
    "collapsed": true
   },
   "outputs": [],
   "source": [
    "def get_syllable_dict():\n",
    "    f = open('data/syllable_dictionary.txt', 'r')\n",
    "    counter = 0\n",
    "    words = {}\n",
    "    for line in f:\n",
    "        line = line.split()\n",
    "        words[counter] = line\n",
    "        counter += 1\n",
    "    return words"
   ]
  },
  {
   "cell_type": "code",
   "execution_count": null,
   "metadata": {},
   "outputs": [],
   "source": [
    "lines = []\n",
    "syllables = 0\n",
    "count_e = 0\n",
    "words = get_syllable_dict()\n",
    "for i in range(14):\n",
    "    curr_syllables = 0\n",
    "    print(i)\n",
    "    line = []\n",
    "    while curr_syllables < 10:\n",
    "        print(curr_syllables)\n",
    "        if emission[count_e] > 3205:\n",
    "            count_e += 1\n",
    "            continue\n",
    "        if len(words[emission[count_e]]) == 3:\n",
    "            print(words[emission[count_e]][0], words[emission[count_e]][2])\n",
    "            syllables = int(words[emission[count_e]][2])\n",
    "        else:\n",
    "            print(words[emission[count_e]][0], words[emission[count_e]][1])\n",
    "            syllables = int(words[emission[count_e]][1])\n",
    "        if (curr_syllables + syllables) > 10:\n",
    "            count_e += 1\n",
    "            continue\n",
    "        else:\n",
    "            curr_syllables += syllables\n",
    "            line.append(words[emission[count_e]][0])\n",
    "            print(words[emission[count_e]][0], count_e)\n",
    "            line.append(\" \")\n",
    "        count_e += 1\n",
    "    lines.append(line)"
   ]
  },
  {
   "cell_type": "code",
   "execution_count": null,
   "metadata": {},
   "outputs": [],
   "source": [
    "print(lines)"
   ]
  },
  {
   "cell_type": "code",
   "execution_count": null,
   "metadata": {
    "collapsed": true
   },
   "outputs": [],
   "source": []
  }
 ],
 "metadata": {
  "kernelspec": {
   "display_name": "Python 3",
   "language": "python",
   "name": "python3"
  },
  "language_info": {
   "codemirror_mode": {
    "name": "ipython",
    "version": 3
   },
   "file_extension": ".py",
   "mimetype": "text/x-python",
   "name": "python",
   "nbconvert_exporter": "python",
   "pygments_lexer": "ipython3",
   "version": "3.6.3"
  }
 },
 "nbformat": 4,
 "nbformat_minor": 2
}
