{
 "cells": [
  {
   "cell_type": "code",
   "execution_count": 9,
   "metadata": {
    "collapsed": true
   },
   "outputs": [],
   "source": [
    "import numpy as np\n",
    "from IPython.display import HTML\n",
    "import os\n",
    "from preprocessing import getTrainingDataHMM\n",
    "from helperFunctions import getSyllableDict, getWordNumDict\n",
    "\n",
    "from HMM import unsupervised_HMM\n",
    "from HMM_helper import (\n",
    "    text_to_wordcloud,\n",
    "    states_to_wordclouds,\n",
    "    parse_observations,\n",
    "    sample_sentence,\n",
    "    visualize_sparsities,\n",
    "    animate_emission\n",
    ")"
   ]
  },
  {
   "cell_type": "code",
   "execution_count": 7,
   "metadata": {},
   "outputs": [
    {
     "name": "stdout",
     "output_type": "stream",
     "text": [
      "Iteration: 10\n",
      "Iteration: 20\n",
      "Iteration: 30\n"
     ]
    }
   ],
   "source": [
    "text = open(os.path.join(os.getcwd(), 'data/cleanShakespeare.txt')).read()\n",
    "obs, obs_map = parse_observations(text)\n",
    "hmm8 = unsupervised_HMM(obs, 10, 30)"
   ]
  },
  {
   "cell_type": "code",
   "execution_count": 8,
   "metadata": {},
   "outputs": [
    {
     "name": "stdout",
     "output_type": "stream",
     "text": [
      "Live i although thy mind which are all thee sweet muse for for whilst yet blot that in see and limbs self flowers by my...\n"
     ]
    }
   ],
   "source": [
    "print(sample_sentence(hmm8, obs_map, n_words=25))"
   ]
  },
  {
   "cell_type": "code",
   "execution_count": 11,
   "metadata": {},
   "outputs": [],
   "source": [
    "(emission, states) = hmm8.generate_emission(500)"
   ]
  },
  {
   "cell_type": "code",
   "execution_count": 13,
   "metadata": {},
   "outputs": [
    {
     "name": "stdout",
     "output_type": "stream",
     "text": [
      "[154, 68, 2044, 211, 56, 308, 832, 316, 154, 302, 568, 15, 673, 2188, 2829, 476, 719, 2936, 52, 855, 1062, 80, 17, 303, 6, 211, 34, 46, 2644, 104, 235, 100, 996, 2709, 71, 194, 14, 475, 284, 100, 1994, 944, 2931, 1372, 68, 28, 430, 628, 2480, 68, 56, 68, 81, 243, 80, 1099, 1632, 1232, 72, 476, 669, 112, 2080, 568, 2219, 1797, 361, 174, 1217, 1862, 2293, 1912, 56, 1053, 28, 34, 2066, 94, 667, 597, 476, 1887, 100, 1279, 1027, 56, 464, 136, 18, 3075, 13, 1816, 2439, 80, 1060, 2193, 277, 444, 94, 1204, 221, 1611, 2583, 2993, 1810, 67, 2827, 34, 80, 156, 94, 893, 15, 19, 96, 832, 56, 68, 287, 102, 930, 81, 192, 475, 130, 243, 1927, 100, 1752, 154, 15, 34, 371, 80, 1342, 100, 694, 81, 296, 34, 444, 68, 475, 13, 475, 6, 475, 100, 719, 21, 238, 8, 2789, 653, 120, 100, 1035, 34, 2685, 579, 94, 80, 34, 799, 80, 217, 147, 68, 1843, 513, 13, 147, 68, 13, 34, 799, 99, 312, 827, 141, 1697, 444, 480, 1662, 1798, 52, 1727, 14, 320, 26, 76, 2218, 68, 556, 2504, 290, 1345, 1106, 221, 476, 599, 154, 476, 787, 100, 608, 298, 447, 94, 485, 605, 1662, 26, 1481, 104, 1290, 1553, 13, 26, 141, 2192, 1132, 311, 94, 225, 1349, 579, 34, 112, 202, 396, 14, 1372, 147, 369, 1179, 18, 1442, 2569, 312, 700, 530, 72, 100, 72, 108, 799, 97, 28, 13, 14, 138, 6, 832, 134, 385, 6, 1697, 13, 97, 603, 134, 278, 2266, 28, 56, 141, 56, 127, 2484, 2702, 871, 56, 141, 476, 46, 315, 2135, 51, 562, 56, 100, 1638, 675, 476, 129, 130, 1188, 114, 2128, 96, 290, 13, 81, 74, 72, 429, 28, 311, 244, 632, 1606, 567, 13, 146, 6, 1914, 80, 68, 2486, 283, 284, 475, 141, 94, 632, 1281, 394, 136, 56, 2030, 72, 348, 1213, 198, 2527, 934, 15, 41, 217, 129, 0, 34, 1644, 147, 287, 474, 1743, 15, 2204, 68, 15, 1533, 1957, 114, 15, 162, 34, 2558, 41, 2055, 154, 308, 107, 21, 799, 568, 435, 6, 1220, 281, 284, 25, 475, 122, 645, 475, 816, 0, 107, 68, 536, 28, 429, 15, 6, 56, 1096, 68, 122, 34, 608, 76, 793, 80, 2112, 668, 68, 476, 36, 146, 15, 2258, 450, 496, 15, 2237, 68, 311, 1258, 14, 12, 32, 4, 513, 1362, 34, 1229, 568, 799, 28, 41, 48, 130, 100, 60, 54, 174, 475, 603, 290, 2163, 2254, 1373, 440, 156, 1057, 146, 112, 94, 411, 481, 240, 2640, 1096, 2534, 2265, 245, 131, 3043, 1715, 18, 871, 74, 34, 108, 596, 475, 76, 524, 2192, 0, 1026, 511, 556, 1820, 0, 147, 56, 567, 18, 1780, 243, 225, 72, 819, 21, 1714, 100, 257, 944, 1133, 1671, 821, 81, 76, 849, 1045, 705, 278, 599, 1885, 281, 80, 1342, 1205, 644, 28, 96, 871, 28, 37, 2579, 1333, 889, 444, 68, 302, 68, 147]\n"
     ]
    }
   ],
   "source": [
    "syllable\n",
    "print (emission)"
   ]
  },
  {
   "cell_type": "code",
   "execution_count": null,
   "metadata": {
    "collapsed": true
   },
   "outputs": [],
   "source": []
  }
 ],
 "metadata": {
  "kernelspec": {
   "display_name": "Python 3",
   "language": "python",
   "name": "python3"
  },
  "language_info": {
   "codemirror_mode": {
    "name": "ipython",
    "version": 3
   },
   "file_extension": ".py",
   "mimetype": "text/x-python",
   "name": "python",
   "nbconvert_exporter": "python",
   "pygments_lexer": "ipython3",
   "version": "3.6.3"
  }
 },
 "nbformat": 4,
 "nbformat_minor": 2
}
