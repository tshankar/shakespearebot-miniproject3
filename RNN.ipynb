{
 "cells": [
  {
   "cell_type": "code",
   "execution_count": 1,
   "metadata": {
    "collapsed": false
   },
   "outputs": [
    {
     "name": "stderr",
     "output_type": "stream",
     "text": [
      "Using TensorFlow backend.\n"
     ]
    }
   ],
   "source": [
    "# import statements\n",
    "import keras \n",
    "from keras.layers import LSTM\n",
    "import pandas\n",
    "import math"
   ]
  },
  {
   "cell_type": "code",
   "execution_count": 108,
   "metadata": {
    "collapsed": true
   },
   "outputs": [],
   "source": [
    "import numpy as np\n",
    "from helperFunctions import isIntegerString, flattenList\n",
    "\n",
    "''' Returns data = [[line1], [line2],...]'''\n",
    "def byLine():\n",
    "    data = []\n",
    "    stripped_data = []\n",
    "    punctuation = [\",\", \":\", \";\", \".\", \"?\", \"!\", \"'\"]\n",
    "    \n",
    "    \n",
    "    data = np.loadtxt(\"data/shakespeare.txt\", delimiter='\\n', dtype='bytes').astype(str)\n",
    "\n",
    "    # Strip all whitespace (including whitespace on last line of poems)\n",
    "    # Remove all punctuation \n",
    "    for i in range(len(data)):\n",
    "        line = data[i].strip()\n",
    "        # delete punctuation \n",
    "        for punc in punctuation:\n",
    "            line = line.replace(punc, \" \")\n",
    "        if not isIntegerString(line):\n",
    "            stripped_data.append(line)\n",
    "\n",
    "    return stripped_data\n",
    "\n",
    "''' Returns data = [[poem1], [poem2],...], where each poem is [[line1], [line2]...] if not flattened.\n",
    "    If flattened, each poem is [line1line2....]. '''\n",
    "def byPoem(flatten=False):\n",
    "    data = []\n",
    "    punctuation = [\",\", \":\", \";\", \".\", \"?\", \"!\", \"'\"]\n",
    "    with open('data/shakespeare.txt') as f:\n",
    "        poem = []\n",
    "        for line in f:\n",
    "            # delete punctuation \n",
    "            for punc in punctuation:\n",
    "                line = line.replace(punc, \" \")\n",
    "                \n",
    "            if not isIntegerString(line):\n",
    "                poem.append(line)\n",
    "            elif len(poem) == 0: continue\n",
    "            else:\n",
    "                poem = poem[:-2] # Get rid of last two newlines\n",
    "                poem[len(poem) - 1] = poem[len(poem) - 1].strip() # Get rid of newline at end of poem\n",
    "                if flatten:\n",
    "                    poem = flattenList(poem)\n",
    "                data.append(poem[:])\n",
    "                poem = []\n",
    "    return data\n",
    "\n",
    "''' Returns data = [[stanza1], [stanza2]...] '''\n",
    "def byStanza():\n",
    "    data = byPoem()\n",
    "    stanzaData = []\n",
    "    for poem in data:\n",
    "        stanzaData.append(poem[:4])\n",
    "        stanzaData.append(poem[4:8])\n",
    "        stanzaData.append(poem[8:12])\n",
    "        stanzaData.append(poem[12:])\n",
    "    return stanzaData"
   ]
  },
  {
   "cell_type": "code",
   "execution_count": 105,
   "metadata": {
    "collapsed": false
   },
   "outputs": [
    {
     "name": "stdout",
     "output_type": "stream",
     "text": [
      "[['From fairest creatures we desire increas', 'e \\n'], ['When forty winters shall besiege thy bro', 'w \\n'], ['Look in thy glass and tell the face thou', ' viewest \\n'], ['Unthrifty loveliness why dost thou spend', ' \\n'], ['Those hours that with gentle work did fr', 'ame\\n'], ['Then let not winter s ragged hand deface', ' \\n'], ['Lo in the orient when the gracious light', '\\n'], ['Music to hear  why hear st thou music sa', 'dly \\n'], ['Is it for fear to wet a widow s eye \\n'], ['For shame deny that thou bear st love to', ' any\\n'], ['As fast as thou shalt wane so fast thou ', 'grow st \\n'], ['When I do count the clock that tells the', ' time \\n'], ['O that you were your self  but love you ', 'are\\n'], ['Not from the stars do I my judgement plu', 'ck \\n'], ['When I consider every thing that grows\\n'], ['But wherefore do not you a mightier way\\n'], ['Who will believe my verse in time to com', 'e\\n'], ['Shall I compare thee to a summer s day \\n'], ['Devouring Time blunt thou the lion s paw', 's \\n'], ['A woman s face with nature s own hand pa', 'inted \\n'], ['So is it not with me as with that muse \\n'], ['My glass shall not persuade me I am old ', '\\n'], ['As an unperfect actor on the stage \\n'], ['Mine eye hath played the painter and hat', 'h stelled \\n'], ['Let those who are in favour with their s', 'tars \\n'], ['Lord of my love  to whom in vassalage\\n'], ['Weary with toil  I haste me to my bed \\n'], ['How can I then return in happy plight\\n'], ['When in disgrace with Fortune and men s ', 'eyes \\n'], ['When to the sessions of sweet silent tho', 'ught \\n'], ['Thy bosom is endeared with all hearts \\n'], ['If thou survive my well-contented day \\n'], ['Full many a glorious morning have I seen', ' \\n'], ['Why didst thou promise such a beauteous ', 'day \\n'], ['No more be grieved at that which thou ha', 'st done \\n'], ['Let me confess that we two must be twain', ' \\n'], ['As a decrepit father takes delight \\n'], ['How can my muse want subject to invent\\n'], ['O how thy worth with manners may I sing ', '\\n'], ['Take all my loves  my love  yea take the', 'm all \\n'], ['Those pretty wrongs that liberty commits', ' \\n'], ['That thou hast her it is not all my grie', 'f \\n'], ['When most I wink then do mine eyes best ', 'see \\n'], ['If the dull substance of my flesh were t', 'hought \\n'], ['The other two  slight air  and purging f', 'ire \\n'], ['Mine eye and heart are at a mortal war \\n'], ['Betwixt mine eye and heart a league is t', 'ook \\n'], ['How careful was I when I took my way \\n'], ['Against that time (if ever that time com', 'e)\\n'], ['How heavy do I journey on the way \\n'], ['Thus can my love excuse the slow offence', ' \\n'], ['So am I as the rich whose blessed key \\n'], ['What is your substance  whereof are you ', 'made \\n'], ['O how much more doth beauty beauteous se', 'em \\n'], ['Not marble  nor the gilded monuments\\n'], ['Sweet love renew thy force  be it not sa', 'id\\n'], ['Being your slave what should I do but te', 'nd \\n'], ['That god forbid  that made me first your', ' slave \\n'], ['If there be nothing new  but that which ', 'is \\n'], ['Like as the waves make towards the pebbl', 'ed shore \\n'], ['Is it thy will  thy image should keep op', 'en\\n'], ['Sin of self-love possesseth all mine eye', ' \\n'], ['Against my love shall be as I am now\\n'], ['When I have seen by Time s fell hand def', 'aced\\n'], ['Since brass  nor stone  nor earth  nor b', 'oundless sea \\n'], ['Tired with all these for restful death I', ' cry \\n'], ['Ah wherefore with infection should he li', 've \\n'], ['Thus is his cheek the map of days outwor', 'n \\n'], ['Those parts of thee that the world s eye', ' doth view \\n'], ['That thou art blamed shall not be thy de', 'fect \\n'], ['No longer mourn for me when I am dead \\n'], ['O lest the world should task you to reci', 'te \\n'], ['That time of year thou mayst in me behol', 'd \\n'], ['But be contented when that fell arrest \\n'], ['So are you to my thoughts as food to lif', 'e \\n'], ['Why is my verse so barren of new pride \\n'], ['Thy glass will show thee how thy beautie', 's wear \\n'], ['So oft have I invoked thee for my muse \\n'], ['Whilst I alone did call upon thy aid \\n'], ['O how I faint when I of you do write \\n'], ['Or I shall live your epitaph to make \\n'], ['I grant thou wert not married to my muse', ' \\n'], ['I never saw that you did painting need \\n'], ['Who is it that says most  which can say ', 'more \\n'], ['My tongue-tied muse in manners holds her', ' still \\n'], ['Was it the proud full sail of his great ', 'verse \\n'], ['Farewell  thou art too dear for my posse', 'ssing \\n'], ['When thou shalt be disposed to set me li', 'ght \\n'], ['Say that thou didst forsake me for some ', 'fault \\n'], ['Then hate me when thou wilt  if ever  no', 'w \\n'], ['Some glory in their birth  some in their', ' skill \\n'], ['But do thy worst to steal thy self away ', '\\n'], ['So shall I live  supposing thou art true', ' \\n'], ['They that have power to hurt  and will d', 'o none \\n'], ['How sweet and lovely dost thou make the ', 'shame \\n'], ['Some say thy fault is youth  some wanton', 'ness \\n'], ['How like a winter hath my absence been\\n'], ['From you have I been absent in the sprin', 'g \\n'], ['The forward violet thus did I chide \\n'], ['Where art thou Muse that thou forget st ', 'so long \\n'], ['O truant Muse what shall be thy amends \\n'], ['My love is strengthened though more weak', ' in seeming \\n'], ['Alack what poverty my muse brings forth ', '\\n'], ['To me fair friend you never can be old \\n'], ['Let not my love be called idolatry \\n'], ['When in the chronicle of wasted time \\n'], ['Not mine own fears  nor the prophetic so', 'ul \\n'], ['What s in the brain that ink may charact', 'er \\n'], ['O never say that I was false of heart \\n'], ['Alas  tis true  I have gone here and the', 're \\n'], ['O for my sake do you with Fortune chide ', '\\n'], ['Your love and pity doth th  impression f', 'ill \\n'], ['Since I left you  mine eye is in my mind', ' \\n'], ['Or whether doth my mind being crowned wi', 'th you\\n'], ['Those lines that I before have writ do l', 'ie \\n'], ['Let me not to the marriage of true minds', '\\n'], ['Accuse me thus  that I have scanted all ', '\\n'], ['Like as to make our appetite more keen\\n'], ['What potions have I drunk of Siren tears', '\\n'], ['That you were once unkind befriends me n', 'ow \\n'], [' Tis better to be vile than vile esteeme', 'd \\n'], ['Thy gift  thy tables  are within my brai', 'n\\n'], ['No  Time  thou shalt not boast that I do', ' change \\n'], ['If my dear love were but the child of st', 'ate \\n'], ['Were t aught to me I bore the canopy \\n'], ['O thou my lovely boy who in thy power \\n'], ['In the old age black was not counted fai', 'r \\n'], ['How oft when thou  my music  music play ', 'st \\n'], ['Th  expense of spirit in a waste of sham', 'e\\n'], ['My mistress  eyes are nothing like the s', 'un \\n'], ['Thou art as tyrannous  so as thou art \\n'], ['Thine eyes I love  and they as pitying m', 'e \\n'], ['Beshrew that heart that makes my heart t', 'o groan\\n'], ['So now I have confessed that he is thine', ' \\n'], ['Whoever hath her wish  thou hast thy wil', 'l \\n'], ['If thy soul check thee that I come so ne', 'ar \\n'], ['Thou blind fool Love  what dost thou to ', 'mine eyes \\n'], ['When my love swears that she is made of ', 'truth \\n'], ['O call not me to justify the wrong \\n'], ['Be wise as thou art cruel  do not press\\n'], ['In faith I do not love thee with mine ey', 'es \\n'], ['Love is my sin  and thy dear virtue hate', ' \\n'], ['Lo as a careful huswife runs to catch \\n'], ['Two loves I have of comfort and despair ', '\\n'], ['Those lips that Love s own hand did make', ' \\n'], ['Poor soul the centre of my sinful earth ', '\\n'], ['My love is as a fever longing still \\n'], ['O me  what eyes hath love put in my head', ' \\n'], ['Canst thou O cruel  say I love thee not ', '\\n'], ['O from what power hast thou this powerfu', 'l might \\n'], ['Love is too young to know what conscienc', 'e is \\n'], ['In loving thee thou know st I am forswor', 'n \\n'], ['Cupid laid by his brand and fell asleep ', '\\n']]\n"
     ]
    }
   ],
   "source": [
    "data = byPoem()\n",
    "segments = [] \n",
    "for element in data:\n",
    "    current = element[0]\n",
    "    n = 40\n",
    "    segments.append([current[i:i+n] for i in range(0, len(current), n)])\n",
    "\n",
    "print(segments)"
   ]
  },
  {
   "cell_type": "code",
   "execution_count": 107,
   "metadata": {
    "collapsed": false
   },
   "outputs": [
    {
     "name": "stdout",
     "output_type": "stream",
     "text": [
      "153\n",
      "['Is it for fear to wet a widow s eye \\n']\n",
      "0\n",
      "1\n",
      "2\n",
      "3\n",
      "4\n",
      "5\n",
      "6\n",
      "7\n",
      "8\n"
     ]
    },
    {
     "ename": "IndexError",
     "evalue": "list index out of range",
     "output_type": "error",
     "traceback": [
      "\u001b[0;31m---------------------------------------------------------------------------\u001b[0m",
      "\u001b[0;31mIndexError\u001b[0m                                Traceback (most recent call last)",
      "\u001b[0;32m<ipython-input-107-1afa75f11fe3>\u001b[0m in \u001b[0;36m<module>\u001b[0;34m()\u001b[0m\n\u001b[1;32m      8\u001b[0m     \u001b[0mprint\u001b[0m\u001b[0;34m(\u001b[0m\u001b[0ms\u001b[0m\u001b[0;34m)\u001b[0m\u001b[0;34m\u001b[0m\u001b[0m\n\u001b[1;32m      9\u001b[0m     \u001b[0mtrainingX\u001b[0m\u001b[0;34m.\u001b[0m\u001b[0mappend\u001b[0m\u001b[0;34m(\u001b[0m\u001b[0msegments\u001b[0m\u001b[0;34m[\u001b[0m\u001b[0ms\u001b[0m\u001b[0;34m]\u001b[0m\u001b[0;34m[\u001b[0m\u001b[0;36m0\u001b[0m\u001b[0;34m]\u001b[0m\u001b[0;34m)\u001b[0m\u001b[0;34m\u001b[0m\u001b[0m\n\u001b[0;32m---> 10\u001b[0;31m     \u001b[0mtrainingY\u001b[0m\u001b[0;34m.\u001b[0m\u001b[0mappend\u001b[0m\u001b[0;34m(\u001b[0m\u001b[0msegments\u001b[0m\u001b[0;34m[\u001b[0m\u001b[0ms\u001b[0m\u001b[0;34m]\u001b[0m\u001b[0;34m[\u001b[0m\u001b[0;36m1\u001b[0m\u001b[0;34m]\u001b[0m\u001b[0;34m)\u001b[0m\u001b[0;34m\u001b[0m\u001b[0m\n\u001b[0m\u001b[1;32m     11\u001b[0m     \u001b[0;31m#trainingY.append(segments[s][1])\u001b[0m\u001b[0;34m\u001b[0m\u001b[0;34m\u001b[0m\u001b[0m\n\u001b[1;32m     12\u001b[0m \u001b[0;34m\u001b[0m\u001b[0m\n",
      "\u001b[0;31mIndexError\u001b[0m: list index out of range"
     ]
    }
   ],
   "source": [
    "print(len(segments))\n",
    "trainingX = []\n",
    "trainingY = []\n",
    "\n",
    "print(segments[8])\n",
    "\n",
    "for s in range(len(segments)):\n",
    "    print(s)\n",
    "    trainingX.append(segments[s][0])\n",
    "    trainingY.append(segments[s][1])\n",
    "    #trainingY.append(segments[s][1])\n",
    "\n",
    "print(trainingX[2])\n",
    "print(trainingY)"
   ]
  },
  {
   "cell_type": "code",
   "execution_count": 85,
   "metadata": {
    "collapsed": false
   },
   "outputs": [
    {
     "name": "stdout",
     "output_type": "stream",
     "text": [
      "From fairest creatures we desire increas\n",
      "[5, 17, 14, 12, 26, 5, 0, 8, 17, 4, 18, 19, 26, 2, 17, 4, 0, 19, 20, 17, 4, 18, 26, 22, 4, 26, 3, 4, 18, 8, 17, 4, 26, 8, 13, 2, 17, 4, 0, 18]\n",
      "When forty winters shall besiege thy bro\n",
      "[22, 7, 4, 13, 26, 5, 14, 17, 19, 24, 26, 22, 8, 13, 19, 4, 17, 18, 26, 18, 7, 0, 11, 11, 26, 1, 4, 18, 8, 4, 6, 4, 26, 19, 7, 24, 26, 1, 17, 14]\n",
      "Look in thy glass and tell the face thou\n",
      "[11, 14, 14, 10, 26, 8, 13, 26, 19, 7, 24, 26, 6, 11, 0, 18, 18, 26, 0, 13, 3, 26, 19, 4, 11, 11, 26, 19, 7, 4, 26, 5, 0, 2, 4, 26, 19, 7, 14, 20]\n",
      "Unthrifty loveliness why dost thou spend\n",
      "[20, 13, 19, 7, 17, 8, 5, 19, 24, 26, 11, 14, 21, 4, 11, 8, 13, 4, 18, 18, 26, 22, 7, 24, 26, 3, 14, 18, 19, 26, 19, 7, 14, 20, 26, 18, 15, 4, 13, 3]\n",
      "Those hours that with gentle work did fr\n",
      "[19, 7, 14, 18, 4, 26, 7, 14, 20, 17, 18, 26, 19, 7, 0, 19, 26, 22, 8, 19, 7, 26, 6, 4, 13, 19, 11, 4, 26, 22, 14, 17, 10, 26, 3, 8, 3, 26, 5, 17]\n",
      "Then let not winters ragged hand deface\n",
      "\n",
      "t\n",
      "h\n",
      "e\n",
      "n\n",
      " \n",
      "l\n",
      "e\n",
      "t\n",
      " \n",
      "n\n",
      "o\n",
      "t\n",
      " \n",
      "w\n",
      "i\n",
      "n\n",
      "t\n",
      "e\n",
      "r\n",
      "s\n",
      " \n",
      "r\n",
      "a\n",
      "g\n",
      "g\n",
      "e\n",
      "d\n",
      " \n",
      "h\n",
      "a\n",
      "n\n",
      "d\n",
      " \n",
      "d\n",
      "e\n",
      "f\n",
      "a\n",
      "c\n",
      "e\n",
      "\n",
      "\n"
     ]
    },
    {
     "ename": "ValueError",
     "evalue": "substring not found",
     "output_type": "error",
     "traceback": [
      "\u001b[0;31m---------------------------------------------------------------------------\u001b[0m",
      "\u001b[0;31mValueError\u001b[0m                                Traceback (most recent call last)",
      "\u001b[0;32m<ipython-input-85-413ba3c0f39e>\u001b[0m in \u001b[0;36m<module>\u001b[0;34m()\u001b[0m\n\u001b[1;32m     18\u001b[0m \u001b[0;32mfor\u001b[0m \u001b[0mi\u001b[0m \u001b[0;32min\u001b[0m \u001b[0msegments\u001b[0m\u001b[0;34m[\u001b[0m\u001b[0;36m5\u001b[0m\u001b[0;34m]\u001b[0m\u001b[0;34m[\u001b[0m\u001b[0;36m0\u001b[0m\u001b[0;34m]\u001b[0m\u001b[0;34m.\u001b[0m\u001b[0mlower\u001b[0m\u001b[0;34m(\u001b[0m\u001b[0;34m)\u001b[0m\u001b[0;34m:\u001b[0m\u001b[0;34m\u001b[0m\u001b[0m\n\u001b[1;32m     19\u001b[0m     \u001b[0mprint\u001b[0m\u001b[0;34m(\u001b[0m\u001b[0mi\u001b[0m\u001b[0;34m)\u001b[0m\u001b[0;34m\u001b[0m\u001b[0m\n\u001b[0;32m---> 20\u001b[0;31m \u001b[0mtest2\u001b[0m \u001b[0;34m=\u001b[0m \u001b[0mprint\u001b[0m\u001b[0;34m(\u001b[0m\u001b[0;34m[\u001b[0m\u001b[0;34m'abcdefghijklmnopqrstuvwxyz '\u001b[0m\u001b[0;34m.\u001b[0m\u001b[0mindex\u001b[0m\u001b[0;34m(\u001b[0m\u001b[0mi\u001b[0m\u001b[0;34m)\u001b[0m \u001b[0;32mfor\u001b[0m \u001b[0mi\u001b[0m \u001b[0;32min\u001b[0m \u001b[0msegments\u001b[0m\u001b[0;34m[\u001b[0m\u001b[0;36m5\u001b[0m\u001b[0;34m]\u001b[0m\u001b[0;34m[\u001b[0m\u001b[0;36m0\u001b[0m\u001b[0;34m]\u001b[0m\u001b[0;34m.\u001b[0m\u001b[0mlower\u001b[0m\u001b[0;34m(\u001b[0m\u001b[0;34m)\u001b[0m\u001b[0;34m]\u001b[0m\u001b[0;34m)\u001b[0m\u001b[0;34m\u001b[0m\u001b[0m\n\u001b[0m\u001b[1;32m     21\u001b[0m \u001b[0mprint\u001b[0m\u001b[0;34m(\u001b[0m\u001b[0mtest2\u001b[0m\u001b[0;34m)\u001b[0m\u001b[0;34m\u001b[0m\u001b[0m\n",
      "\u001b[0;32m<ipython-input-85-413ba3c0f39e>\u001b[0m in \u001b[0;36m<listcomp>\u001b[0;34m(.0)\u001b[0m\n\u001b[1;32m     18\u001b[0m \u001b[0;32mfor\u001b[0m \u001b[0mi\u001b[0m \u001b[0;32min\u001b[0m \u001b[0msegments\u001b[0m\u001b[0;34m[\u001b[0m\u001b[0;36m5\u001b[0m\u001b[0;34m]\u001b[0m\u001b[0;34m[\u001b[0m\u001b[0;36m0\u001b[0m\u001b[0;34m]\u001b[0m\u001b[0;34m.\u001b[0m\u001b[0mlower\u001b[0m\u001b[0;34m(\u001b[0m\u001b[0;34m)\u001b[0m\u001b[0;34m:\u001b[0m\u001b[0;34m\u001b[0m\u001b[0m\n\u001b[1;32m     19\u001b[0m     \u001b[0mprint\u001b[0m\u001b[0;34m(\u001b[0m\u001b[0mi\u001b[0m\u001b[0;34m)\u001b[0m\u001b[0;34m\u001b[0m\u001b[0m\n\u001b[0;32m---> 20\u001b[0;31m \u001b[0mtest2\u001b[0m \u001b[0;34m=\u001b[0m \u001b[0mprint\u001b[0m\u001b[0;34m(\u001b[0m\u001b[0;34m[\u001b[0m\u001b[0;34m'abcdefghijklmnopqrstuvwxyz '\u001b[0m\u001b[0;34m.\u001b[0m\u001b[0mindex\u001b[0m\u001b[0;34m(\u001b[0m\u001b[0mi\u001b[0m\u001b[0;34m)\u001b[0m \u001b[0;32mfor\u001b[0m \u001b[0mi\u001b[0m \u001b[0;32min\u001b[0m \u001b[0msegments\u001b[0m\u001b[0;34m[\u001b[0m\u001b[0;36m5\u001b[0m\u001b[0;34m]\u001b[0m\u001b[0;34m[\u001b[0m\u001b[0;36m0\u001b[0m\u001b[0;34m]\u001b[0m\u001b[0;34m.\u001b[0m\u001b[0mlower\u001b[0m\u001b[0;34m(\u001b[0m\u001b[0;34m)\u001b[0m\u001b[0;34m]\u001b[0m\u001b[0;34m)\u001b[0m\u001b[0;34m\u001b[0m\u001b[0m\n\u001b[0m\u001b[1;32m     21\u001b[0m \u001b[0mprint\u001b[0m\u001b[0;34m(\u001b[0m\u001b[0mtest2\u001b[0m\u001b[0;34m)\u001b[0m\u001b[0;34m\u001b[0m\u001b[0m\n",
      "\u001b[0;31mValueError\u001b[0m: substring not found"
     ]
    }
   ],
   "source": [
    "test = ['abcdefghijklmnopqrstuvwxyz '.index(i) for i in segments[0][0].lower()]\n",
    "print(segments[0][0])\n",
    "print(test)\n",
    "\n",
    "test = ['abcdefghijklmnopqrstuvwxyz '.index(i) for i in segments[1][0].lower()]\n",
    "print(segments[1][0])\n",
    "print(test)\n",
    "test = ['abcdefghijklmnopqrstuvwxyz '.index(i) for i in segments[2][0].lower()]\n",
    "print(segments[2][0])\n",
    "print(test)\n",
    "test = ['abcdefghijklmnopqrstuvwxyz '.index(i) for i in segments[3][0].lower()]\n",
    "print(segments[3][0])\n",
    "print(test)\n",
    "test = ['abcdefghijklmnopqrstuvwxyz '.index(i) for i in segments[4][0].lower()]\n",
    "print(segments[4][0])\n",
    "print(test)\n",
    "print(segments[5][0])\n",
    "for i in segments[5][0].lower():\n",
    "    print(i)\n",
    "test2 = print(['abcdefghijklmnopqrstuvwxyz '.index(i) for i in segments[5][0].lower()])\n",
    "print(test2)"
   ]
  },
  {
   "cell_type": "code",
   "execution_count": 39,
   "metadata": {
    "collapsed": false
   },
   "outputs": [
    {
     "name": "stdout",
     "output_type": "stream",
     "text": [
      "[0. 0. 0. 0. 0. 1. 0. 0. 0. 0. 0. 0. 0. 0. 0. 0. 0. 0. 0. 0. 0. 0. 0. 0.\n",
      " 0. 0. 0.]\n"
     ]
    }
   ],
   "source": [
    "# one-hot encode the labels\n",
    "segments_cat = keras.utils.np_utils.to_categorical(test, num_classes = 27)\n",
    "\n",
    "print(segments_cat[0])"
   ]
  },
  {
   "cell_type": "code",
   "execution_count": 18,
   "metadata": {
    "collapsed": false
   },
   "outputs": [
    {
     "ename": "NameError",
     "evalue": "name 'Sequential' is not defined",
     "output_type": "error",
     "traceback": [
      "\u001b[0;31m---------------------------------------------------------------------------\u001b[0m",
      "\u001b[0;31mNameError\u001b[0m                                 Traceback (most recent call last)",
      "\u001b[0;32m<ipython-input-18-4abc7b0752ae>\u001b[0m in \u001b[0;36m<module>\u001b[0;34m()\u001b[0m\n\u001b[1;32m      2\u001b[0m \u001b[0;31m# compare softmax output to one-hot-encoded vector representing the next character\u001b[0m\u001b[0;34m\u001b[0m\u001b[0;34m\u001b[0m\u001b[0m\n\u001b[1;32m      3\u001b[0m \u001b[0;34m\u001b[0m\u001b[0m\n\u001b[0;32m----> 4\u001b[0;31m \u001b[0mmodel\u001b[0m \u001b[0;34m=\u001b[0m \u001b[0mSequential\u001b[0m\u001b[0;34m(\u001b[0m\u001b[0;34m)\u001b[0m\u001b[0;34m\u001b[0m\u001b[0m\n\u001b[0m\u001b[1;32m      5\u001b[0m \u001b[0;34m\u001b[0m\u001b[0m\n\u001b[1;32m      6\u001b[0m \u001b[0;31m# 150 LSTM units\u001b[0m\u001b[0;34m\u001b[0m\u001b[0;34m\u001b[0m\u001b[0m\n",
      "\u001b[0;31mNameError\u001b[0m: name 'Sequential' is not defined"
     ]
    }
   ],
   "source": [
    "# take sequences of 40 consecutive characters\n",
    "# compare softmax output to one-hot-encoded vector representing the next character\n",
    "\n",
    "# are we supposed to use the syllable \n",
    "model = Sequential()\n",
    "\n",
    "# 150 LSTM units\n",
    "model.add(LSTM(150, input_shape = (1, sequential.length)))\n",
    "\n",
    "# add a dense layer\n",
    "model.add(Dense(1))\n",
    "model.compile(loss = 'categorical_crossentropy', optimizer = 'rmsprop')\n",
    "model.fit(segments, epochs = 32)"
   ]
  },
  {
   "cell_type": "code",
   "execution_count": null,
   "metadata": {
    "collapsed": true
   },
   "outputs": [],
   "source": [
    "# take in the first line from an actual sonnet ('seed')\n",
    "# take the last 40 character from that line\n",
    "# use that as your testx\n",
    "# input that into your model to predct the next character\n",
    "# recursively call\n",
    "\n",
    "Hello my name is [bob]\n",
    "s\n",
    "Hello my name is b[obs]\n",
    "\n",
    "hello my name is bo[bs ]\n",
    "\\n\n",
    "hello my name is bob[s \\n]"
   ]
  }
 ],
 "metadata": {
  "kernelspec": {
   "display_name": "Python 3",
   "language": "python",
   "name": "python3"
  },
  "language_info": {
   "codemirror_mode": {
    "name": "ipython",
    "version": 3
   },
   "file_extension": ".py",
   "mimetype": "text/x-python",
   "name": "python",
   "nbconvert_exporter": "python",
   "pygments_lexer": "ipython3",
   "version": "3.6.0"
  }
 },
 "nbformat": 4,
 "nbformat_minor": 2
}
